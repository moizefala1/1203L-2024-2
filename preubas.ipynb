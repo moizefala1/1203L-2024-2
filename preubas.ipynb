{
 "cells": [
  {
   "cell_type": "code",
   "execution_count": 16,
   "metadata": {},
   "outputs": [
    {
     "name": "stdout",
     "output_type": "stream",
     "text": [
      "Matrix([[-15, 13], [-4, 24], [34, -43]])\n",
      "Matrix([[-2, 5.00000000000000], [-15.0000000000000, 13.0000000000000]])\n",
      "Matrix([[1/16, -15/16, 3/8], [1/32, 1/32, 3/16], [5/32, 5/32, -1/16]])\n"
     ]
    }
   ],
   "source": [
    "import sympy as sp\n",
    "sp.init_printing()\n",
    "\n",
    "\n",
    "########### 2.1\n",
    "a = sp.Matrix([[2, -3, 1],\n",
    "               [0, -2, 5]])\n",
    "\n",
    "b = sp.Matrix([[1, 4],\n",
    "               [2, 0],\n",
    "               [3, -1]])\n",
    "c = sp.Matrix([[-1, -1],\n",
    "               [3, -4]])\n",
    "\n",
    "b_tras = sp.Transpose(b)\n",
    "\n",
    "aux = (2*a - b_tras)\n",
    "print (sp.Transpose(aux) * c)\n",
    "\n",
    "########### 2.2\n",
    "\n",
    "x = sp.Matrix ([[0, 29/2],\n",
    "                [17/2, -23/2]])\n",
    "\n",
    "print(2*(sp.Transpose(a*b-x)))\n",
    "\n",
    "########### 4\n",
    "a = sp.Matrix([[1, 0, 6],\n",
    "               [-1, 2, 0],\n",
    "               [0, 5, -1]]\n",
    "              )\n",
    "\n",
    "print(a.inv())\n",
    "\n",
    "\n"
   ]
  }
 ],
 "metadata": {
  "kernelspec": {
   "display_name": "Python 3",
   "language": "python",
   "name": "python3"
  },
  "language_info": {
   "codemirror_mode": {
    "name": "ipython",
    "version": 3
   },
   "file_extension": ".py",
   "mimetype": "text/x-python",
   "name": "python",
   "nbconvert_exporter": "python",
   "pygments_lexer": "ipython3",
   "version": "3.11.8"
  }
 },
 "nbformat": 4,
 "nbformat_minor": 2
}
