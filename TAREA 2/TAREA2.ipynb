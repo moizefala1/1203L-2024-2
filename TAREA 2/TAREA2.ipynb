{
 "cells": [
  {
   "cell_type": "markdown",
   "metadata": {},
   "source": [
    "A)   \n",
    "  \n",
    "Dado el grafo entregado, podemos conlcuir que es un grafo de incidencia nodo-arista, ya que no hay ningun vector conectado consigo mismo, y solamente hay una arista conectando un vertice con otro. De esta forma, podemos usar su definicion para el grafo entregado:\n"
   ]
  },
  {
   "cell_type": "code",
   "execution_count": 257,
   "metadata": {},
   "outputs": [
    {
     "name": "stdout",
     "output_type": "stream",
     "text": [
      "⎡-1  0   0   0   0   0   0   0   0   0   0 ⎤\n",
      "⎢                                          ⎥\n",
      "⎢0   -1  -1  -1  0   0   0   0   0   0   0 ⎥\n",
      "⎢                                          ⎥\n",
      "⎢0   0   0   0   -1  -1  -1  0   0   0   0 ⎥\n",
      "⎢                                          ⎥\n",
      "⎢1   1   0   0   1   0   0   -1  0   0   0 ⎥\n",
      "⎢                                          ⎥\n",
      "⎢0   0   1   0   0   0   0   0   -1  -1  0 ⎥\n",
      "⎢                                          ⎥\n",
      "⎢0   0   0   1   0   0   0   0   0   0   -1⎥\n",
      "⎢                                          ⎥\n",
      "⎢0   0   0   0   0   1   0   1   1   0   0 ⎥\n",
      "⎢                                          ⎥\n",
      "⎣0   0   0   0   0   0   1   0   0   1   1 ⎦\n"
     ]
    }
   ],
   "source": [
    "import sympy as sp\n",
    "import networkx as nx\n",
    "import matplotlib.pyplot as plt\n",
    "sp.init_printing(use_unicode=True)\n",
    "\n",
    "A = sp.Matrix (8,11, lambda i,j: 0) #Definimos una función 8 x 11 (son 8 vectores y 11 aristas)\n",
    "# Luego, en base a la definicion de la incidencia nodo-arista, vamos a declarar las posiciones del la matriz\n",
    "#LLEGADAS\n",
    "A[3,0] = 1 # A1 llega a V4\n",
    "A[3,4] = 1 # A5 llega a V4\n",
    "A[3,1] = 1 # A2 llega a V4\n",
    "A[6,7] = 1 # A8 llega a V7\n",
    "A[6,5] = 1 # A6 llega a V7\n",
    "A[6,8] = 1 # A9 llega a V7\n",
    "A[7,6] = 1 #A7 llega a V8\n",
    "A[7,9] = 1 #A10 llega a V8\n",
    "A[7,10] = 1 #A11 llega a V8\n",
    "A[4,2] = 1 #A3 llega a V5\n",
    "A[5,3] = 1 #A4 llega a V6\n",
    "#SALIDAS\n",
    "A[0,0] = -1 #A1 sale de V1\n",
    "A[1,1] = -1 #A2 sale de V2\n",
    "A[1,2] = -1 #A3 sale de V2\n",
    "A[1,3] = -1 #A4 sale de V2\n",
    "A[2,4] = -1 #A5 sale de V3\n",
    "A[2,5] = -1 #A6 sale de V3\n",
    "A[2,6] = -1 #A7 sale de V3\n",
    "A[3,7] = -1 #A8 sale de V4\n",
    "A[4,8] = -1 #A9 sale de V5\n",
    "A[4,9] = -1 #A10 sale de V5\n",
    "A[5,10] = -1 #A11 sale de V6\n",
    "\n",
    "\n",
    "sp.pprint(A)"
   ]
  },
  {
   "cell_type": "markdown",
   "metadata": {},
   "source": [
    "Podemos notar que cada columna representa a una arista, y cada fila representa un nodo. De esta forma, si la columna 5 en la fila 2 tiene un 1, quiere decir que la arista 5 sale del vertice 2."
   ]
  },
  {
   "cell_type": "markdown",
   "metadata": {},
   "source": [
    "B)  \n",
    "  \n",
    "Notemos los siguientes ciclos cerrados:  \n",
    "1.- V3 - V4 - V7- V3 (A5, A8, A6)  \n",
    "2.- V2 - V6 - V8 - V5 - V2 (A4, A11, A10, A3)   \n",
    "3.- V2 - V5 - V7 - V4 - V2 (A3, A9, A8, A2)  \n",
    "Luego, observamos su dependencia o independencia entre las columnas correspondientes:  \n",
    "  \n",
    "(Note que por teorema del rango, si el rango de una matriz es igual al numero de columnas, significa que el espacio nulo de la matriz tiene dimension 0, osea que Ax=0 solo tendría solucion trivial, por lo que sus columnas serían LI)"
   ]
  },
  {
   "cell_type": "code",
   "execution_count": 258,
   "metadata": {},
   "outputs": [
    {
     "name": "stdout",
     "output_type": "stream",
     "text": [
      "Las columnas del primer ciclo son LD\n",
      "Las columnas del segundo ciclo son LD\n",
      "Las columnas del tercer ciclo son LD\n"
     ]
    }
   ],
   "source": [
    "#PRIMER CICLO\n",
    "columnas = [4, 7, 5] #Seleccionamos las columnas de las aristas en cuestión\n",
    "columnas_de_a = A[:, columnas] #Creamos una matriz con las columnas de A seleccionadas\n",
    "rango = columnas_de_a.rank() #Calculamos el rango de la matriz\n",
    "cantidad_de_columnas = len(columnas) #Calculamos la cantidad de columnas de la matriz\n",
    "if rango == cantidad_de_columnas:\n",
    "    print(\"Las columnas del primer ciclo son LI\")\n",
    "else:\n",
    "    print(\"Las columnas del primer ciclo son LD\")\n",
    "    \n",
    "\n",
    "#SEGUNDO CICLO\n",
    "columnas = [3, 10, 9, 2] \n",
    "columnas_de_a = A[:, columnas]\n",
    "rango = columnas_de_a.rank() \n",
    "cantidad_de_columnas = len(columnas)\n",
    "if rango == cantidad_de_columnas:\n",
    "    print(\"Las columnas del segundo ciclo son LI\")\n",
    "else:\n",
    "    print(\"Las columnas del segundo ciclo son LD\")\n",
    "    \n",
    "    \n",
    "#TERCER CICLO\n",
    "columnas = [2, 8, 7, 1]\n",
    "columnas_de_a = A[:, columnas] \n",
    "rango = columnas_de_a.rank() \n",
    "cantidad_de_columnas = len(columnas) \n",
    "if rango == cantidad_de_columnas:\n",
    "    print(\"Las columnas del tercer ciclo son LI\")\n",
    "else:\n",
    "    print(\"Las columnas del tercer ciclo son LD\")"
   ]
  },
  {
   "cell_type": "markdown",
   "metadata": {},
   "source": [
    "C) \n",
    "  \n",
    "Para hallar las aristas que no contengan ciclos cerrados, consideramos las aristas que no están en el conjunto de aristas que forman los ciclos cerrados, es decir, A1 y A7.\n",
    "\n",
    "Analicemos su dependencia:"
   ]
  },
  {
   "cell_type": "code",
   "execution_count": 259,
   "metadata": {},
   "outputs": [
    {
     "name": "stdout",
     "output_type": "stream",
     "text": [
      "⎡-1  0 ⎤\n",
      "⎢      ⎥\n",
      "⎢0   0 ⎥\n",
      "⎢      ⎥\n",
      "⎢0   -1⎥\n",
      "⎢      ⎥\n",
      "⎢1   0 ⎥\n",
      "⎢      ⎥\n",
      "⎢0   0 ⎥\n",
      "⎢      ⎥\n",
      "⎢0   0 ⎥\n",
      "⎢      ⎥\n",
      "⎢0   0 ⎥\n",
      "⎢      ⎥\n",
      "⎣0   1 ⎦\n",
      "Las aristas que no forman ciclos cerrados son LI\n"
     ]
    }
   ],
   "source": [
    "columnas = [0,6]\n",
    "columnas_seleccionadas = A[:, columnas]\n",
    "sp.pprint(columnas_seleccionadas)\n",
    "rango = columnas_seleccionadas.rank()\n",
    "if rango == len(columnas):\n",
    "    print(\"Las aristas que no forman ciclos cerrados son LI\")\n",
    "else:\n",
    "    print(\"Las aristas que no forman ciclos cerrados son LD\")"
   ]
  },
  {
   "cell_type": "markdown",
   "metadata": {},
   "source": [
    "D)  \n",
    "  \n",
    "Como podemos ver, las aristas que forman ciclos cerrados son LD, mientras que las que no, son LI.\n",
    "Esto tiene toda la lógica del mundo, ya que cuando recorremos un ciclo cerrado, volvemos al punto de orígen, por lo que la suma de las coordenadas de las aristas dan 0, lo que significa que se podrían reescribir como combinaciones lineales de otras aristas.  \n",
    "  \n",
    "Mientras que, las que no forman parte de ciclos cerrados, no entregan información redundante, ya que conectan dos vectores que no estaban conectados anteriormente, por lo que no se podría escribir como combinacion lineal de otras aristas."
   ]
  },
  {
   "cell_type": "markdown",
   "metadata": {},
   "source": [
    "E)  \n",
    "  \n",
    "De las demostraciónes anteriores, tambien podemos concluir que podemos describrir un ciclo como un vector, donde cada elemento es el coeficiente de una arista. Por ejemplo, el vector [0, −1, 1, 0, 0, 0, 0, −1, 1, 0, 0] describe el ciclo de V5 - V7 - V4 - V2 - V5, ya que este ciclo sería:  A9 - A8 - A2 + A3\n",
    "  \n",
    "e1)\n",
    "  \n",
    "Recordemos que la suma de los vectores de las aristas de un ciclo cerrado dan 0, ya que representan un movimiento nulo, por lo que podemos asumir que el vector que representa un ciclo cerrado forma parte del espacio nulo de la matriz de indicendia nodo-arista. "
   ]
  },
  {
   "cell_type": "code",
   "execution_count": 260,
   "metadata": {},
   "outputs": [
    {
     "name": "stdout",
     "output_type": "stream",
     "text": [
      "⎡0 ⎤\n",
      "⎢  ⎥\n",
      "⎢-1⎥\n",
      "⎢  ⎥\n",
      "⎢1 ⎥\n",
      "⎢  ⎥\n",
      "⎢0 ⎥\n",
      "⎢  ⎥\n",
      "⎢0 ⎥\n",
      "⎢  ⎥\n",
      "⎢0 ⎥\n",
      "⎢  ⎥\n",
      "⎢0 ⎥\n",
      "⎢  ⎥\n",
      "⎢-1⎥\n",
      "⎢  ⎥\n",
      "⎢1 ⎥\n",
      "⎢  ⎥\n",
      "⎢0 ⎥\n",
      "⎢  ⎥\n",
      "⎣0 ⎦\n",
      "El vector forma parte del espacio nulo\n"
     ]
    }
   ],
   "source": [
    "vector_ciclo = sp.Matrix([0, -1, 1, 0, 0, 0, 0, -1, 1, 0, 0]) #Escribimos el vector del ciclo descrito en el enunciado\n",
    "sp.pprint(vector_ciclo)\n",
    "if A * vector_ciclo == sp.zeros(8,1): ## Vemos si el resultado equivale al vector con 8 filas de 0.       \n",
    "    print(\"El vector forma parte del espacio nulo\")\n",
    "else:\n",
    "    print(\"El vector no forma parte del espacio nulo\")"
   ]
  },
  {
   "cell_type": "markdown",
   "metadata": {},
   "source": [
    "e2)  \n",
    "  \n",
    "El vector del ciclo V3 - V7 - V4 - V3 se puede escribir considerando las aristas, como sigue:\n",
    "\n",
    "A6 - A8 - A5 (note que los signos negativos significan que es la dirección opuesta a la de la arista.)\n",
    "\n",
    "de esta forma, podemos construir el vector del ciclo:"
   ]
  },
  {
   "cell_type": "code",
   "execution_count": 261,
   "metadata": {},
   "outputs": [
    {
     "name": "stdout",
     "output_type": "stream",
     "text": [
      "El vector del ciclo V3 - V7 - V4 - V3 forma parte del espacio nulo de la matriz de incidencia nodo-arista.\n"
     ]
    }
   ],
   "source": [
    "vector_ciclo = sp.Matrix([0, 0, 0, 0, -1, 1, 0, -1, 0, 0, 0]) #Los 0 son las aristas que no forman parte del ciclo\n",
    "if A * vector_ciclo == sp.zeros(8,1):\n",
    "    print(\"El vector del ciclo V3 - V7 - V4 - V3 forma parte del espacio nulo de la matriz de incidencia nodo-arista.\")\n",
    "else:  \n",
    "    print(\"El vector del ciclo V3 - V7 - V4 - V3 NO forma parte del espacio nulo de la matriz de incidencia nodo-arista.\")"
   ]
  },
  {
   "cell_type": "markdown",
   "metadata": {},
   "source": [
    "F)  \n",
    "  \n",
    "Según el ciclo descrito, tenemos que el ciclo se representa como : V6 - V2 - V5 - V7 - V4 - V2 - V5 - V8 - V6. Si vemos el grafo, y seguimos este orden, vemos cuales son las aristas que van en direccion esperada y cuales en direccion opuesta. Tenemos : \n",
    "-A4 + A3 + A9 - A8 - A2 + A3 + A10 - A11. (note que la arista A3 se recorrió dos veces)\n",
    "Finalmente, colgamos en un vector los coeficientes de las aristas. (0 si no forman parte del vector). Tenemos el vector [0, -1, 2, -1, 0, 0, 0, -1, 1, 1, -1].\n",
    "Demostremos que este vector forma parte del espacio nulo de la matriz de incidencia nodo-vector."
   ]
  },
  {
   "cell_type": "code",
   "execution_count": 262,
   "metadata": {},
   "outputs": [
    {
     "name": "stdout",
     "output_type": "stream",
     "text": [
      "El vector forma parte del espacio nulo de la matriz de incidencia arista-nodo\n"
     ]
    }
   ],
   "source": [
    "vector_ciclo = sp.Matrix([0, -1, 2, -1, 0, 0, 0, -1, 1, 1, -1]) #Declaramos el vector como vector_ciclo\n",
    "if A * vector_ciclo == sp.zeros(8,1):\n",
    "    print(\"El vector forma parte del espacio nulo de la matriz de incidencia arista-nodo\")\n",
    "else:\n",
    "    print(\"El vector NO forma parte del espacio nulo de la matriz de incidencia arista-nodo\")"
   ]
  },
  {
   "cell_type": "markdown",
   "metadata": {},
   "source": [
    "G)  \n",
    "  \n",
    "Para hallar una base para el espacio nulo de A, debemos escalonar y reducir la matirz, y resolver el sistema homogéneo Ax = 0."
   ]
  },
  {
   "cell_type": "code",
   "execution_count": 263,
   "metadata": {},
   "outputs": [
    {
     "name": "stdout",
     "output_type": "stream",
     "text": [
      "⎛⎡1  0  0  0  0  0  0  0   0   0   0 ⎤                       ⎞\n",
      "⎜⎢                                   ⎥                       ⎟\n",
      "⎜⎢0  1  0  0  0  0  0  0   1   1   1 ⎥                       ⎟\n",
      "⎜⎢                                   ⎥                       ⎟\n",
      "⎜⎢0  0  1  0  0  0  0  0   -1  -1  0 ⎥                       ⎟\n",
      "⎜⎢                                   ⎥                       ⎟\n",
      "⎜⎢0  0  0  1  0  0  0  0   0   0   -1⎥                       ⎟\n",
      "⎜⎢                                   ⎥, (0, 1, 2, 3, 4, 5, 6)⎟\n",
      "⎜⎢0  0  0  0  1  0  0  -1  -1  -1  -1⎥                       ⎟\n",
      "⎜⎢                                   ⎥                       ⎟\n",
      "⎜⎢0  0  0  0  0  1  0  1   1   0   0 ⎥                       ⎟\n",
      "⎜⎢                                   ⎥                       ⎟\n",
      "⎜⎢0  0  0  0  0  0  1  0   0   1   1 ⎥                       ⎟\n",
      "⎜⎢                                   ⎥                       ⎟\n",
      "⎝⎣0  0  0  0  0  0  0  0   0   0   0 ⎦                       ⎠\n"
     ]
    }
   ],
   "source": [
    "escalonada_reducida = A.rref()\n",
    "sp.pprint(escalonada_reducida)\n"
   ]
  },
  {
   "cell_type": "markdown",
   "metadata": {},
   "source": [
    "Note que X8, X9, X10, X11 son variables libres, luego:\n",
    "  \n",
    "x1 = 0  \n",
    "x2 = -X9 -X10 -X11  \n",
    "x3 = X9 + X10  \n",
    "x4 = X11  \n",
    "x5 = X8 + X9 + X10 + X11  \n",
    "x6 = -X8 - X9  \n",
    "x7 =  -X10 -X11  \n",
    "  \n",
    "Después, escribimos la solucion general con las variables libres:"
   ]
  },
  {
   "cell_type": "code",
   "execution_count": 264,
   "metadata": {},
   "outputs": [
    {
     "name": "stdout",
     "output_type": "stream",
     "text": [
      "Nul(A) = \n",
      "\n",
      "⎡0   0   0   0 ⎤\n",
      "⎢              ⎥\n",
      "⎢0   -1  -1  -1⎥\n",
      "⎢              ⎥\n",
      "⎢0   1   1   0 ⎥\n",
      "⎢              ⎥\n",
      "⎢0   0   0   1 ⎥\n",
      "⎢              ⎥\n",
      "⎢1   1   1   1 ⎥\n",
      "⎢              ⎥\n",
      "⎢-1  -1  0   0 ⎥\n",
      "⎢              ⎥\n",
      "⎢0   0   -1  -1⎥\n",
      "⎢              ⎥\n",
      "⎢1   0   0   0 ⎥\n",
      "⎢              ⎥\n",
      "⎢0   1   0   0 ⎥\n",
      "⎢              ⎥\n",
      "⎢0   0   1   0 ⎥\n",
      "⎢              ⎥\n",
      "⎣0   0   0   1 ⎦\n"
     ]
    }
   ],
   "source": [
    "nul_a = sp.Matrix([[0,0,0,0,1,-1,0,1,0,0,0], [0,-1,1,0,1,-1,0,0,1,0,0],[0,-1,1,0,1,0,-1,0,0,1,0],\n",
    "                   [0,-1,0,1,1,0,-1,0,0,0,1]]).T\n",
    "print(\"Nul(A) = \\n\")\n",
    "sp.pprint(nul_a)"
   ]
  },
  {
   "cell_type": "markdown",
   "metadata": {},
   "source": [
    "Note que también podemos hallar una base de este espacio usando el comadno .nullspace():"
   ]
  },
  {
   "cell_type": "code",
   "execution_count": 265,
   "metadata": {},
   "outputs": [
    {
     "name": "stdout",
     "output_type": "stream",
     "text": [
      "⎡⎡0 ⎤  ⎡0 ⎤  ⎡0 ⎤  ⎡0 ⎤⎤\n",
      "⎢⎢  ⎥  ⎢  ⎥  ⎢  ⎥  ⎢  ⎥⎥\n",
      "⎢⎢0 ⎥  ⎢-1⎥  ⎢-1⎥  ⎢-1⎥⎥\n",
      "⎢⎢  ⎥  ⎢  ⎥  ⎢  ⎥  ⎢  ⎥⎥\n",
      "⎢⎢0 ⎥  ⎢1 ⎥  ⎢1 ⎥  ⎢0 ⎥⎥\n",
      "⎢⎢  ⎥  ⎢  ⎥  ⎢  ⎥  ⎢  ⎥⎥\n",
      "⎢⎢0 ⎥  ⎢0 ⎥  ⎢0 ⎥  ⎢1 ⎥⎥\n",
      "⎢⎢  ⎥  ⎢  ⎥  ⎢  ⎥  ⎢  ⎥⎥\n",
      "⎢⎢1 ⎥  ⎢1 ⎥  ⎢1 ⎥  ⎢1 ⎥⎥\n",
      "⎢⎢  ⎥  ⎢  ⎥  ⎢  ⎥  ⎢  ⎥⎥\n",
      "⎢⎢-1⎥, ⎢-1⎥, ⎢0 ⎥, ⎢0 ⎥⎥\n",
      "⎢⎢  ⎥  ⎢  ⎥  ⎢  ⎥  ⎢  ⎥⎥\n",
      "⎢⎢0 ⎥  ⎢0 ⎥  ⎢-1⎥  ⎢-1⎥⎥\n",
      "⎢⎢  ⎥  ⎢  ⎥  ⎢  ⎥  ⎢  ⎥⎥\n",
      "⎢⎢1 ⎥  ⎢0 ⎥  ⎢0 ⎥  ⎢0 ⎥⎥\n",
      "⎢⎢  ⎥  ⎢  ⎥  ⎢  ⎥  ⎢  ⎥⎥\n",
      "⎢⎢0 ⎥  ⎢1 ⎥  ⎢0 ⎥  ⎢0 ⎥⎥\n",
      "⎢⎢  ⎥  ⎢  ⎥  ⎢  ⎥  ⎢  ⎥⎥\n",
      "⎢⎢0 ⎥  ⎢0 ⎥  ⎢1 ⎥  ⎢0 ⎥⎥\n",
      "⎢⎢  ⎥  ⎢  ⎥  ⎢  ⎥  ⎢  ⎥⎥\n",
      "⎣⎣0 ⎦  ⎣0 ⎦  ⎣0 ⎦  ⎣1 ⎦⎦\n"
     ]
    }
   ],
   "source": [
    "nul_a = A.nullspace()\n",
    "sp.pprint(nul_a)"
   ]
  },
  {
   "cell_type": "markdown",
   "metadata": {},
   "source": [
    "H)  \n",
    "  \n",
    "Para dibujar los ciclos descritos por los vectores de la base del espacio nulo, describimos cada vector en base a las aristas:\n",
    "vector 1 = A5 - A6 + A8 (V3-V4-V7-V3)\n",
    "vector 2 = -A2 + A3 + A5 - A6 + A9 (V3-V4-V2-V5-V7-V3)\n",
    "\n",
    "Luego, modifcaremos el código de la sesion 6: "
   ]
  },
  {
   "cell_type": "code",
   "execution_count": 266,
   "metadata": {},
   "outputs": [
    {
     "data": {
      "image/png": "[encoded data removed]",
      "text/plain": [
       "<Figure size 640x480 with 1 Axes>"
      ]
     },
     "metadata": {},
     "output_type": "display_data"
    }
   ],
   "source": [
    "# Crear un grafo dirigido\n",
    "G = nx.DiGraph()\n",
    "\n",
    "# Agregar nodos (vértices)\n",
    "nodos = [\"v1\", \"v2\", \"v3\", \"v4\", \"v5\", \"v6\", \"v7\", \"v8\"]\n",
    "G.add_nodes_from(nodos)\n",
    "\n",
    "# Agregar aristas (con direcciones según el gráfico)\n",
    "aristas = [\n",
    "    (\"v1\", \"v4\", \"A1\"),\n",
    "    (\"v2\", \"v4\", \"A2\"),\n",
    "    (\"v2\", \"v5\", \"A3\"),\n",
    "    (\"v2\", \"v6\", \"A4\"),\n",
    "    (\"v3\", \"v4\", \"A5\"),\n",
    "    (\"v3\", \"v7\", \"A6\"),\n",
    "    (\"v3\", \"v8\", \"A7\"),\n",
    "    (\"v4\", \"v7\", \"A8\"),\n",
    "    (\"v5\", \"v7\", \"A9\"),\n",
    "    (\"v5\", \"v8\", \"A10\"),\n",
    "    (\"v6\", \"v8\", \"A11\"),\n",
    "    \n",
    "]\n",
    "\n",
    "# Agregar las aristas con etiquetas\n",
    "for (u, v, label) in aristas:\n",
    "    G.add_edge(u, v, label=label)\n",
    "\n",
    "# Definir el ciclo y colorear las aristas del ciclo en rojo\n",
    "ciclo1 = [(\"v3\", \"v4\"), (\"v4\", \"v7\"), (\"v7\", \"v3\")] # Primer vector de la base de Nul(A)\n",
    "ciclo2 = [(\"v3\", \"v4\"), (\"v4\",\"v2\"), (\"v2\", \"v5\"), (\"v5\", \"v7\"), (\"v7\", \"v3\")] # Segundo vector de la base de Nul(A)\n",
    "\n",
    "# Posición manual de los nodos para que se asemeje al grafo original\n",
    "pos = {\n",
    "    \"v1\": (0, 5),\n",
    "    \"v2\": (3, 5),\n",
    "    \"v3\": (1, 5),\n",
    "    \"v4\": (0, 2.5),\n",
    "    \"v5\": (3, 2.5),\n",
    "    \"v6\": (4, 2.5),\n",
    "    \"v7\": (1, 0),\n",
    "    \"v8\": (3, 0)\n",
    "}\n",
    "\n",
    "# Dibujar los nodos\n",
    "nx.draw_networkx_nodes(G, pos, node_size=700, node_color=\"lightblue\")\n",
    "\n",
    "# Dibujar todas las aristas en gris claro inicialmente\n",
    "nx.draw_networkx_edges(G, pos, edgelist=[(u, v) for (u, v, _) in aristas], edge_color=\"lightgray\", arrowstyle=\"->\", arrowsize=20)\n",
    "\n",
    "# Dibujar las aristas de los ciclos en colores diferentes\n",
    "nx.draw_networkx_edges(G, pos, edgelist=ciclo1, edge_color=\"red\", width=2.5, arrowstyle=\"->\", arrowsize=20, label=\"Ciclo 1\")\n",
    "nx.draw_networkx_edges(G, pos, edgelist=ciclo2, edge_color=\"blue\", width=2.5, arrowstyle=\"->\", arrowsize=20, label=\"Ciclo 1\")\n",
    "\n",
    "# Dibujar etiquetas de nodos\n",
    "nx.draw_networkx_labels(G, pos, font_size=12, font_color=\"black\")\n",
    "\n",
    "# Dibujar etiquetas de aristas\n",
    "edge_labels = {(u, v): label for (u, v, label) in aristas}\n",
    "nx.draw_networkx_edge_labels(G, pos, edge_labels=edge_labels, font_size=10, label_pos=0.3)\n",
    "\n",
    "# Mostrar el grafo\n",
    "plt.title(\"Grafo Dirigido con Ciclos Cerrados\")\n",
    "plt.axis(\"off\")\n",
    "plt.show()"
   ]
  }
 ],
 "metadata": {
  "kernelspec": {
   "display_name": "Python 3",
   "language": "python",
   "name": "python3"
  },
  "language_info": {
   "codemirror_mode": {
    "name": "ipython",
    "version": 3
   },
   "file_extension": ".py",
   "mimetype": "text/x-python",
   "name": "python",
   "nbconvert_exporter": "python",
   "pygments_lexer": "ipython3",
   "version": "3.11.8"
  }
 },
 "nbformat": 4,
 "nbformat_minor": 2
}
