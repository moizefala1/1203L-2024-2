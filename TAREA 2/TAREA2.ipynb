{
 "cells": [
  {
   "cell_type": "markdown",
   "metadata": {},
   "source": [
    "A)   \n",
    "Dado el grafo entregado, podemos conlcuir que es un grafo de incidencia nodo-arista, ya que no hay ningun vector conectado consigo mismo, y solamente hay una arista conectando un vertice con otro. De esta forma, podemos usar su definicion para el grafo entregado:\n"
   ]
  },
  {
   "cell_type": "code",
   "execution_count": 22,
   "metadata": {},
   "outputs": [
    {
     "name": "stdout",
     "output_type": "stream",
     "text": [
      "⎡-1  0   0   0   0   0   0   0   0   0   0 ⎤\n",
      "⎢                                          ⎥\n",
      "⎢0   -1  -1  -1  0   0   0   0   0   0   0 ⎥\n",
      "⎢                                          ⎥\n",
      "⎢0   0   0   0   -1  -1  -1  0   0   0   0 ⎥\n",
      "⎢                                          ⎥\n",
      "⎢1   1   0   0   1   0   0   -1  0   0   0 ⎥\n",
      "⎢                                          ⎥\n",
      "⎢0   0   1   0   0   0   0   0   -1  -1  0 ⎥\n",
      "⎢                                          ⎥\n",
      "⎢0   0   0   1   0   0   0   0   0   0   -1⎥\n",
      "⎢                                          ⎥\n",
      "⎢0   0   0   0   0   1   0   1   1   0   0 ⎥\n",
      "⎢                                          ⎥\n",
      "⎣0   0   0   0   0   0   1   0   0   1   1 ⎦\n"
     ]
    }
   ],
   "source": [
    "import sympy as sp\n",
    "sp.init_printing(use_unicode=True)\n",
    "\n",
    "A = sp.Matrix (8,11, lambda i,j: 0) #Definimos una función 8 x 11 (son 8 vectores y 11 aristas)\n",
    "# Luego, en base a la definicion de la incidencia nodo-arista, vamos a declarar las posiciones del la matriz\n",
    "#LLEGADAS\n",
    "A[3,0] = 1 # A1 llega a V4\n",
    "A[3,4] = 1 # A5 llega a V4\n",
    "A[3,1] = 1 # A2 llega a V4\n",
    "A[6,7] = 1 # A8 llega a V7\n",
    "A[6,5] = 1 # A6 llega a V7\n",
    "A[6,8] = 1 # A9 llega a V7\n",
    "A[7,6] = 1 #A7 llega a V8\n",
    "A[7,9] = 1 #A10 llega a V8\n",
    "A[7,10] = 1 #A11 llega a V8\n",
    "A[4,2] = 1 #A3 llega a V5\n",
    "A[5,3] = 1 #A4 llega a V6\n",
    "#SALIDAS\n",
    "A[0,0] = -1 #A1 sale de V1\n",
    "A[1,1] = -1 #A2 sale de V2\n",
    "A[1,2] = -1 #A3 sale de V2\n",
    "A[1,3] = -1 #A4 sale de V2\n",
    "A[2,4] = -1 #A5 sale de V3\n",
    "A[2,5] = -1 #A6 sale de V3\n",
    "A[2,6] = -1 #A7 sale de V3\n",
    "A[3,7] = -1 #A8 sale de V4\n",
    "A[4,8] = -1 #A9 sale de V5\n",
    "A[4,9] = -1 #A10 sale de V5\n",
    "A[5,10] = -1 #A11 sale de V6\n",
    "\n",
    "\n",
    "sp.pprint(A)"
   ]
  },
  {
   "cell_type": "markdown",
   "metadata": {},
   "source": [
    "Podemos notar que cada columna representa a una arista, y cada fila representa un nodo. De esta forma, si la columna 5 en la fila 2 tiene un 1, quiere decir que la arista 5 sale del vertice 2."
   ]
  },
  {
   "cell_type": "markdown",
   "metadata": {},
   "source": [
    "B)  \n",
    "Notemos los siguientes ciclos cerrados:  \n",
    "1.- V3 - V4 - V7- V3 (A5-A8-A6)  \n",
    "2.- V2 - V6 - V8 - V5 - V2 (A4-A11-A10-A3)   \n",
    "3.- V2 - V5 - V7 - V4 - V2 (A3-A9-A8-A2)  \n",
    "Luego, observamos su dependencia o independencia entre las columnas correspondientes:  \n",
    "  \n",
    "(Note que por teorema del rango, si el rango de una matriz es igual al numero de columnas, significa que el espacio nulo de la matriz tiene dimension 0, osea que Ax=0 solo tendría solucion trivial, por lo que sus columnas serían LI)"
   ]
  },
  {
   "cell_type": "code",
   "execution_count": 23,
   "metadata": {},
   "outputs": [
    {
     "name": "stdout",
     "output_type": "stream",
     "text": [
      "Las columnas del primer ciclo son LD\n",
      "Las columnas del segundo ciclo son LD\n",
      "Las columnas del tercer ciclo son LD\n"
     ]
    }
   ],
   "source": [
    "#PRIMER CICLO\n",
    "columnas = [4, 7, 5] #Seleccionamos las columnas de las aristas en cuestión\n",
    "columnas_de_a = A[:, columnas] #Creamos una matriz con las columnas de A seleccionadas\n",
    "rango = columnas_de_a.rank() #Calculamos el rango de la matriz\n",
    "cantidad_de_columnas = len(columnas) #Calculamos la cantidad de columnas de la matriz\n",
    "if rango == cantidad_de_columnas:\n",
    "    print(\"Las columnas del primer ciclo son LI\")\n",
    "else:\n",
    "    print(\"Las columnas del primer ciclo son LD\")\n",
    "    \n",
    "\n",
    "#SEGUNDO CICLO\n",
    "columnas = [3, 10, 9, 2] \n",
    "columnas_de_a = A[:, columnas]\n",
    "rango = columnas_de_a.rank() \n",
    "cantidad_de_columnas = len(columnas)\n",
    "if rango == cantidad_de_columnas:\n",
    "    print(\"Las columnas del segundo ciclo son LI\")\n",
    "else:\n",
    "    print(\"Las columnas del segundo ciclo son LD\")\n",
    "    \n",
    "    \n",
    "#TERCER CICLO\n",
    "columnas = [2, 8, 7, 1]\n",
    "columnas_de_a = A[:, columnas] \n",
    "rango = columnas_de_a.rank() \n",
    "cantidad_de_columnas = len(columnas) \n",
    "if rango == cantidad_de_columnas:\n",
    "    print(\"Las columnas del tercer ciclo son LI\")\n",
    "else:\n",
    "    print(\"Las columnas del tercer ciclo son LD\")"
   ]
  }
 ],
 "metadata": {
  "kernelspec": {
   "display_name": "Python 3",
   "language": "python",
   "name": "python3"
  },
  "language_info": {
   "codemirror_mode": {
    "name": "ipython",
    "version": 3
   },
   "file_extension": ".py",
   "mimetype": "text/x-python",
   "name": "python",
   "nbconvert_exporter": "python",
   "pygments_lexer": "ipython3",
   "version": "3.11.8"
  }
 },
 "nbformat": 4,
 "nbformat_minor": 2
}
