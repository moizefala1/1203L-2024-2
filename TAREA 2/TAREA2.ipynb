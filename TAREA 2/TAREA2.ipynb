{
 "cells": [
  {
   "cell_type": "markdown",
   "metadata": {},
   "source": [
    "A)   \n",
    "Dado el grafo entregado, podemos conlcuir que es un grafo de incidencia nodo-arista, ya que no hay ningun vector conectado consigo mismo, y solamente hay una arista conectando un vertice con otro. De esta forma, podemos usar su definicion para el grafo entregado:\n"
   ]
  },
  {
   "cell_type": "code",
   "execution_count": 7,
   "metadata": {},
   "outputs": [],
   "source": [
    "import sympy as sp\n",
    "sp.init_printing(use_unicode=True)\n",
    "\n",
    "A = sp.Matrix (8,11, lambda i,j: 0) #Definimos una función 8 x 11 (son 8 vectores y 11 aristas)\n",
    "# Luego, en base a la definicion de la incidencia nodo-arista, vamos \n",
    "A[0, 0] = -1  # A1: de v1\n",
    "A[3, 0] = 1   # A1: a v4\n",
    "\n",
    "A[1, 1] = -1  # A2: de v2\n",
    "A[4, 1] = 1   # A2: a v5\n",
    "\n",
    "A[2, 2] = -1  # A3: de v3\n",
    "A[1, 2] = 1   # A3: a v2\n",
    "\n",
    "A[4, 3] = -1  # A4: de v5\n",
    "A[1, 3] = 1   # A4: a v2\n",
    "\n",
    "A[0, 4] = -1  # A5: de v1\n",
    "A[2, 4] = 1   # A5: a v3\n",
    "\n",
    "A[0, 5] = -1  # A6: de v1\n",
    "A[3, 5] = 1   # A6: a v4\n",
    "\n",
    "A[3, 6] = -1  # A7: de v4\n",
    "A[6, 6] = 1   # A7: a v7\n",
    "\n",
    "A[3, 7] = -1  # A8: de v4\n",
    "A[2, 7] = 1   # A8: a v3\n",
    "\n",
    "A[6, 8] = -1  # A9: de v7\n",
    "A[4, 8] = 1   # A9: a v5\n",
    "\n",
    "A[3, 9] = -1  # A10: de v4\n",
    "A[6, 9] = 1   # A10: a v7\n",
    "\n",
    "A[4, 10] = -1 # A11: de v5\n",
    "A[6, 10] = 1  # A11: a v7\n"
   ]
  }
 ],
 "metadata": {
  "kernelspec": {
   "display_name": "Python 3",
   "language": "python",
   "name": "python3"
  },
  "language_info": {
   "codemirror_mode": {
    "name": "ipython",
    "version": 3
   },
   "file_extension": ".py",
   "mimetype": "text/x-python",
   "name": "python",
   "nbconvert_exporter": "python",
   "pygments_lexer": "ipython3",
   "version": "3.11.8"
  }
 },
 "nbformat": 4,
 "nbformat_minor": 2
}
