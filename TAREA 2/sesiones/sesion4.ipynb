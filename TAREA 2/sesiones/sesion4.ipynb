{
  "nbformat": 4,
  "nbformat_minor": 0,
  "metadata": {
    "colab": {
      "provenance": []
    },
    "kernelspec": {
      "name": "python3",
      "display_name": "Python 3"
    },
    "language_info": {
      "name": "python"
    }
  },
  "cells": [
    {
      "cell_type": "code",
      "execution_count": 1,
      "metadata": {
        "id": "Lrx5STc7tSQ9"
      },
      "outputs": [],
      "source": [
        "# Cargamos la libreria adecuada\n",
        "from sympy import *\n",
        "init_printing(use_unicode=True)"
      ]
    },
    {
      "cell_type": "markdown",
      "source": [
        "Queremos cifrar el mensaje *hoy es el primer dia*.\n",
        "\n",
        "El primer paso es codificar el mensaje utilizando números de acuerdo a la siguiente tabla, donde el número 27 se usará para representar el espacio entre palabras:\n",
        "\n",
        "| 1  | 2  | 3  | 4  | 5  | 6  | 7  | 8  | 9  | 10 | 11 | 12 | 13 | 14 | 15 | 16 | 17 | 18 | 19 | 20 |\n",
        "|----|----|----|----|----|----|----|----|----|----|----|----|----|----|----|----|----|----|----|----|\n",
        "| A  | B  | C  | D  | E  | F  | G  | H  | I  | J  | K  | L  | M  | N  | O  | P  | Q  | R  | S  | T  |\n",
        "\n",
        "| 21 | 22 | 23 | 24 | 25 | 26 | 27 |\n",
        "|----|----|----|----|----|----|----|\n",
        "| U  | V  | W  | X  | Y  | Z  | Espacio |"
      ],
      "metadata": {
        "id": "6Bllr6yb8DPc"
      }
    },
    {
      "cell_type": "markdown",
      "source": [
        "Así, el mensaje queda codificado de la siguiente manera:\n",
        "\n",
        "| H  | O  | Y  |   | E  | S  |   | E  | L  |   | P  | R  | I  | M  | E  | R  |   | D  | I  | A  |\n",
        "|----|----|----|---|----|----|---|----|----|---|----|----|----|----|----|----|---|----|----|----|\n",
        "| 8  | 15 | 25 | 27| 5  | 19 | 27| 5  | 12 | 27| 16 | 18 | 9  | 13 | 5  | 18 | 27| 4  | 9  | 1  |\n",
        "\n",
        "Se define la matriz que se ocupara como clave"
      ],
      "metadata": {
        "id": "H0E9znO79Tc0"
      }
    },
    {
      "cell_type": "code",
      "source": [
        "# Se define la matriz que se ocupara como clave\n",
        "A=Matrix([[-1,1,1],[-2,-3,1],[3,1,-2]])\n",
        "A"
      ],
      "metadata": {
        "colab": {
          "base_uri": "https://localhost:8080/",
          "height": 78
        },
        "id": "sXL_w07u7xYi",
        "outputId": "ea2ffa88-00fb-4197-e864-f496f010b64c"
      },
      "execution_count": 35,
      "outputs": [
        {
          "output_type": "execute_result",
          "data": {
            "text/plain": [
              "⎡-1  1   1 ⎤\n",
              "⎢          ⎥\n",
              "⎢-2  -3  1 ⎥\n",
              "⎢          ⎥\n",
              "⎣3   1   -2⎦"
            ],
            "text/latex": "$\\displaystyle \\left[\\begin{matrix}-1 & 1 & 1\\\\-2 & -3 & 1\\\\3 & 1 & -2\\end{matrix}\\right]$"
          },
          "metadata": {},
          "execution_count": 35
        }
      ]
    },
    {
      "cell_type": "markdown",
      "source": [
        "El primer paso para cifrar el mensaje es dividirlo en grupos de tres letras (se dividen en tres dado el tamaño de la matriz A, pero podria ser cualquier otro número dependiendo de la matriz), completando con espacios en blanco si es necesario, de manera que el número total de letras sea múltiplo de 3:"
      ],
      "metadata": {
        "id": "jHX1oEQk-puS"
      }
    },
    {
      "cell_type": "code",
      "source": [
        "M=Matrix([\n",
        "    [8, 27, 27, 27, 9, 18, 9],\n",
        "    [15, 5, 5, 16, 13, 27, 1],\n",
        "    [25, 19, 12, 18, 5, 4, 27]\n",
        "])\n",
        "M"
      ],
      "metadata": {
        "colab": {
          "base_uri": "https://localhost:8080/",
          "height": 78
        },
        "id": "1UMNzZlU_FG4",
        "outputId": "e7d7c34c-83c8-47f6-c49b-cccea4225cc0"
      },
      "execution_count": 37,
      "outputs": [
        {
          "output_type": "execute_result",
          "data": {
            "text/plain": [
              "⎡8   27  27  27  9   18  9 ⎤\n",
              "⎢                          ⎥\n",
              "⎢15  5   5   16  13  27  1 ⎥\n",
              "⎢                          ⎥\n",
              "⎣25  19  12  18  5   4   27⎦"
            ],
            "text/latex": "$\\displaystyle \\left[\\begin{matrix}8 & 27 & 27 & 27 & 9 & 18 & 9\\\\15 & 5 & 5 & 16 & 13 & 27 & 1\\\\25 & 19 & 12 & 18 & 5 & 4 & 27\\end{matrix}\\right]$"
          },
          "metadata": {},
          "execution_count": 37
        }
      ]
    },
    {
      "cell_type": "markdown",
      "source": [
        "Antes de continuar es necesario explicar como se multiplican y calculan matrices inversas en python.\n",
        "\n",
        "**Multiplicación de matrices y cálculo de la matriz inversa en Python utilizando SymPy**\n",
        "\n",
        "SymPy es una librería de álgebra simbólica que permite realizar operaciones algebraicas como la multiplicación de matrices y el cálculo de la matriz inversa de manera simbólica. A continuación, te explico cómo realizar estas operaciones básicas.\n",
        "\n",
        "**1. Multiplicación de matrices**\n",
        "\n",
        "La multiplicación de matrices sigue las reglas del álgebra matricial. En SymPy, puedes realizar esta operación de manera sencilla utilizando el operador * para multiplicar dos matrices.\n",
        "\n",
        "Ejemplo de multiplicación de matrices:\n",
        "\n"
      ],
      "metadata": {
        "id": "w2f3OY_FBUjc"
      }
    },
    {
      "cell_type": "code",
      "source": [
        "# Definir dos matrices A y B\n",
        "A1 = Matrix([\n",
        "    [1, 2],\n",
        "    [3, 4]\n",
        "])\n",
        "\n",
        "B1 = Matrix([\n",
        "    [5, 6],\n",
        "    [7, 8]\n",
        "])\n",
        "\n",
        "# Multiplicación de matrices\n",
        "C1 = A1 * B1\n",
        "\n",
        "# Mostrar la matriz resultante\n",
        "C1"
      ],
      "metadata": {
        "colab": {
          "base_uri": "https://localhost:8080/",
          "height": 58
        },
        "id": "j56gaehOBi8P",
        "outputId": "f961c2e4-6368-4c47-dacd-cdaa9b73dc5d"
      },
      "execution_count": 39,
      "outputs": [
        {
          "output_type": "execute_result",
          "data": {
            "text/plain": [
              "⎡19  22⎤\n",
              "⎢      ⎥\n",
              "⎣43  50⎦"
            ],
            "text/latex": "$\\displaystyle \\left[\\begin{matrix}19 & 22\\\\43 & 50\\end{matrix}\\right]$"
          },
          "metadata": {},
          "execution_count": 39
        }
      ]
    },
    {
      "cell_type": "markdown",
      "source": [
        "En este ejemplo, estamos multiplicando las matrices  A  y  B . El resultado será una nueva matriz, producto de la multiplicación.\n",
        "\n",
        "Reglas de multiplicación de matrices:\n",
        "\n",
        "\t•\tLa multiplicación de dos matrices  A  y  B  es posible si el número de columnas de  A  es igual al número de filas de  B .\n",
        "\t•\tEl producto de dos matrices  A  y  B  de dimensiones  mxn  y  nxp , respectivamente, dará como resultado una matriz de tamaño  m \\times p ."
      ],
      "metadata": {
        "id": "-mbJr9pQBtoC"
      }
    },
    {
      "cell_type": "markdown",
      "source": [
        "**2. Cálculo de la matriz inversa**\n",
        "\n",
        "La matriz inversa  $A^{-1}$  de una matriz cuadrada  A  es aquella que cumple con la propiedad:\n",
        "\n",
        "\n",
        "$$A \\cdot A^{-1} = I$$\n",
        "\n",
        "\n",
        "donde  $I$  es la matriz identidad.\n",
        "\n",
        "Para calcular la inversa de una matriz cuadrada en SymPy, puedes utilizar el método .inv().\n",
        "\n",
        "Ejemplo de cálculo de la matriz inversa:"
      ],
      "metadata": {
        "id": "2HOF_8FEB_2C"
      }
    },
    {
      "cell_type": "code",
      "source": [
        "A1 = Matrix([\n",
        "    [1, 2],\n",
        "    [3, 4]\n",
        "])\n",
        "# Multiplicar la matriz A por su inversa\n",
        "I = A1 * A1.inv()\n",
        "\n",
        "# Mostrar la matriz identidad resultante\n",
        "I"
      ],
      "metadata": {
        "colab": {
          "base_uri": "https://localhost:8080/",
          "height": 58
        },
        "id": "S6Fwd5P5B-AD",
        "outputId": "ecad9edd-0f29-4c6f-f399-901c06d7ba18"
      },
      "execution_count": 41,
      "outputs": [
        {
          "output_type": "execute_result",
          "data": {
            "text/plain": [
              "⎡1  0⎤\n",
              "⎢    ⎥\n",
              "⎣0  1⎦"
            ],
            "text/latex": "$\\displaystyle \\left[\\begin{matrix}1 & 0\\\\0 & 1\\end{matrix}\\right]$"
          },
          "metadata": {},
          "execution_count": 41
        }
      ]
    },
    {
      "cell_type": "markdown",
      "source": [
        "Continuando con el ejemplo de cifrado y decifrado:\n",
        "\n",
        "Para obtener el mensaje cifrado, realizamos el producto de la matriz clave $A$ y la matriz del mensaje $M$."
      ],
      "metadata": {
        "id": "VWJs-aQLCruy"
      }
    },
    {
      "cell_type": "code",
      "source": [
        "C=A*M\n",
        "C"
      ],
      "metadata": {
        "colab": {
          "base_uri": "https://localhost:8080/",
          "height": 78
        },
        "id": "uqeTHf1UDHxo",
        "outputId": "ca18acfe-2941-4849-afb3-84f15535b121"
      },
      "execution_count": 44,
      "outputs": [
        {
          "output_type": "execute_result",
          "data": {
            "text/plain": [
              "⎡32   -3   -10   7    9    13   19 ⎤\n",
              "⎢                                  ⎥\n",
              "⎢-36  -50  -57  -84  -52  -113   6 ⎥\n",
              "⎢                                  ⎥\n",
              "⎣-11  48   62   61   30    73   -26⎦"
            ],
            "text/latex": "$\\displaystyle \\left[\\begin{matrix}32 & -3 & -10 & 7 & 9 & 13 & 19\\\\-36 & -50 & -57 & -84 & -52 & -113 & 6\\\\-11 & 48 & 62 & 61 & 30 & 73 & -26\\end{matrix}\\right]$"
          },
          "metadata": {},
          "execution_count": 44
        }
      ]
    },
    {
      "cell_type": "markdown",
      "source": [
        "Para descifrar el mensaje, multiplicamos el mensaje cifrado $C$ por la inversa de la matriz $A$ para obtener los valores originales:"
      ],
      "metadata": {
        "id": "m4Hopl3_DYpt"
      }
    },
    {
      "cell_type": "code",
      "source": [
        "A.inv()*C"
      ],
      "metadata": {
        "colab": {
          "base_uri": "https://localhost:8080/",
          "height": 78
        },
        "id": "0IcJ-9XlDdKS",
        "outputId": "5d46b887-bf75-4006-cb60-feb25b17d2ca"
      },
      "execution_count": 45,
      "outputs": [
        {
          "output_type": "execute_result",
          "data": {
            "text/plain": [
              "⎡8   27  27  27  9   18  9 ⎤\n",
              "⎢                          ⎥\n",
              "⎢15  5   5   16  13  27  1 ⎥\n",
              "⎢                          ⎥\n",
              "⎣25  19  12  18  5   4   27⎦"
            ],
            "text/latex": "$\\displaystyle \\left[\\begin{matrix}8 & 27 & 27 & 27 & 9 & 18 & 9\\\\15 & 5 & 5 & 16 & 13 & 27 & 1\\\\25 & 19 & 12 & 18 & 5 & 4 & 27\\end{matrix}\\right]$"
          },
          "metadata": {},
          "execution_count": 45
        }
      ]
    },
    {
      "cell_type": "markdown",
      "source": [
        "### **Ejercicio**\n",
        "\n",
        "Codifique el siguiente mensaje:\n",
        "\n",
        "*Si quieres saber cómo es un hombre, echa un vistazo al modo en que trata a sus inferiores, no a sus iguales*\n",
        "\n",
        "Debe crear una llave $A$ y ocupe el 28 para la coma (,).\n",
        "\n",
        "### **Solución**\n",
        "\n",
        "Primero creamos llave. Puede ser cualquier matriz invertible y se propone la siguiente:"
      ],
      "metadata": {
        "id": "6RQMGcIhDtAx"
      }
    },
    {
      "cell_type": "code",
      "source": [
        "clave=Matrix([\n",
        "    [7, -3, -2, 1, 3, 2],\n",
        "    [6, -4, -2, -2, -4, 2],\n",
        "    [-3, 2, -1, -1, 6, 5],\n",
        "    [-1, -5, -5, -4, -4, -4],\n",
        "    [5, 0, -1, 5, 6, -3],\n",
        "    [-1, 6, 5, 3, 6, 7]\n",
        "])\n",
        "clave"
      ],
      "metadata": {
        "colab": {
          "base_uri": "https://localhost:8080/",
          "height": 139
        },
        "id": "iTP9O9owD87U",
        "outputId": "b862f9f0-786a-4d59-9b77-3f627908e9d5"
      },
      "execution_count": 46,
      "outputs": [
        {
          "output_type": "execute_result",
          "data": {
            "text/plain": [
              "⎡7   -3  -2  1   3   2 ⎤\n",
              "⎢                      ⎥\n",
              "⎢6   -4  -2  -2  -4  2 ⎥\n",
              "⎢                      ⎥\n",
              "⎢-3  2   -1  -1  6   5 ⎥\n",
              "⎢                      ⎥\n",
              "⎢-1  -5  -5  -4  -4  -4⎥\n",
              "⎢                      ⎥\n",
              "⎢5   0   -1  5   6   -3⎥\n",
              "⎢                      ⎥\n",
              "⎣-1  6   5   3   6   7 ⎦"
            ],
            "text/latex": "$\\displaystyle \\left[\\begin{matrix}7 & -3 & -2 & 1 & 3 & 2\\\\6 & -4 & -2 & -2 & -4 & 2\\\\-3 & 2 & -1 & -1 & 6 & 5\\\\-1 & -5 & -5 & -4 & -4 & -4\\\\5 & 0 & -1 & 5 & 6 & -3\\\\-1 & 6 & 5 & 3 & 6 & 7\\end{matrix}\\right]$"
          },
          "metadata": {},
          "execution_count": 46
        }
      ]
    },
    {
      "cell_type": "markdown",
      "source": [
        "Es decir, debemos separar el texto en fragmentos de largo 6 y todas las letras mayúsculas cambiarlas por minúsculas:\n",
        "\n",
        "si qui\n",
        "\n",
        "eres s\n",
        "\n",
        "aber c\n",
        "\n",
        "ómo es\n",
        "\n",
        " un ho\n",
        "\n",
        "mbre,\n",
        "\n",
        "echa u\n",
        "\n",
        "n vist\n",
        "\n",
        "azo al\n",
        "\n",
        " modo\n",
        "\n",
        "en que\n",
        "\n",
        " trata\n",
        "\n",
        " a sus\n",
        "\n",
        " infer\n",
        "\n",
        "iores,\n",
        "\n",
        " no a\n",
        "\n",
        "sus i\n",
        "\n",
        "guale\n",
        "\n",
        "s\n",
        "\n"
      ],
      "metadata": {
        "id": "53K9P38dEpTI"
      }
    },
    {
      "cell_type": "markdown",
      "source": [
        "Podríamos crear la matriz *a mano*, pero el siguiente código lo hace de forma automática."
      ],
      "metadata": {
        "id": "SEbE2qyXFnkF"
      }
    },
    {
      "cell_type": "code",
      "source": [
        "# Definir el diccionario de caracteres\n",
        "diccionario = {\n",
        "    'a': 1, 'b': 2, 'c': 3, 'd': 4, 'e': 5, 'f': 6, 'g': 7, 'h': 8, 'i': 9, 'j': 10, 'k': 11, 'l': 12, 'm': 13,\n",
        "    'n': 14, 'o': 15, 'p': 16, 'q': 17, 'r': 18, 's': 19, 't': 20, 'u': 21, 'v': 22, 'w': 23, 'x': 24, 'y': 25, 'z': 26,\n",
        "    ' ': 27, ',': 28\n",
        "}\n",
        "\n",
        "# Mensaje a codificar\n",
        "mensaje = \"si quieres saber como es un hombre, echa un vistazo al modo en que trata a sus inferiores, no a sus iguales\"\n",
        "\n",
        "# Convertir mensaje a números\n",
        "mensaje_codificado = [diccionario[letra] for letra in mensaje]\n",
        "\n",
        "# Agrupar en bloques de 6\n",
        "bloques = [mensaje_codificado[i:i+6] for i in range(0, len(mensaje_codificado), 6)]\n",
        "\n",
        "# Si el último bloque no tiene 6 elementos, rellenar con espacios (27)\n",
        "for bloque in bloques:\n",
        "    while len(bloque) < 6:\n",
        "        bloque.append(27)\n",
        "\n",
        "# Convertir los bloques en una matriz\n",
        "M_mensaje = sp.Matrix(bloques).transpose()\n",
        "\n",
        "# Mostrar la matriz del mensaje antes de ser cifrada\n",
        "sp.pprint(M_mensaje)"
      ],
      "metadata": {
        "colab": {
          "base_uri": "https://localhost:8080/"
        },
        "id": "fUP18U52G3-x",
        "outputId": "e0882311-d88d-4b3f-af11-3e245927825d"
      },
      "execution_count": 49,
      "outputs": [
        {
          "output_type": "stream",
          "name": "stdout",
          "text": [
            "⎡19  5   1   15  27  13  5   14  1   27  5   27  27  27  9   27  19  21⎤\n",
            "⎢                                                                      ⎥\n",
            "⎢9   18  2   13  21  2   3   27  26  13  14  20  1   9   15  14  21  1 ⎥\n",
            "⎢                                                                      ⎥\n",
            "⎢27  5   5   15  14  18  8   22  15  15  27  18  27  14  18  15  19  12⎥\n",
            "⎢                                                                      ⎥\n",
            "⎢17  19  18  27  27  5   1   9   27  4   17  1   19  6   5   27  27  5 ⎥\n",
            "⎢                                                                      ⎥\n",
            "⎢21  27  27  5   8   28  27  19  1   15  21  20  21  5   19  1   9   19⎥\n",
            "⎢                                                                      ⎥\n",
            "⎣9   19  3   19  15  27  21  20  12  27  5   1   19  18  28  27  7   27⎦\n"
          ]
        }
      ]
    },
    {
      "cell_type": "markdown",
      "source": [
        "Ciframos el mensaje para optener la matriz."
      ],
      "metadata": {
        "id": "G40UpIwsHR5M"
      }
    },
    {
      "cell_type": "code",
      "source": [
        "cifrado=clave*M_mensaje\n",
        "cifrado"
      ],
      "metadata": {
        "colab": {
          "base_uri": "https://localhost:8080/",
          "height": 139
        },
        "id": "e1rSUwCgHXw9",
        "outputId": "80a12519-0a55-4011-ee72-85a9614ea97d"
      },
      "execution_count": 56,
      "outputs": [
        {
          "output_type": "execute_result",
          "data": {
            "text/plain": [
              "⎡150   109    96   116   179   192   134    79   -47   223    29   156   252   191   100   201   1 ↪\n",
              "⎢                                                                                                  ↪\n",
              "⎢-76   -160  -150  -28    -6   -34   -66   -122  -162   66   -188  -34    20   102   -72    72   - ↪\n",
              "⎢                                                                                                  ↪\n",
              "⎢ 88   254   155    64    43   245   249   195    73   151   120    65    96    37   234    46     ↪\n",
              "⎢                                                                                                  ↪\n",
              "⎢-387  -380  -228  -359  -402  -353  -256  -451  -366  -351  -382  -305  -403  -258  -382  -392  - ↪\n",
              "⎢                                                                                                  ↪\n",
              "⎢252   220   243   168   259   159   121   147    95   149   194   239   272   127    82   180   2 ↪\n",
              "⎢                                                                                                  ↪\n",
              "⎣410   480   273   382   403   461   365   539   401   417   426   313   430   271   496   408   3 ↪\n",
              "\n",
              "↪ 00   236 ⎤\n",
              "↪          ⎥\n",
              "↪ 84    66 ⎥\n",
              "↪          ⎥\n",
              "↪ 28   171 ⎥\n",
              "↪          ⎥\n",
              "↪ 391  -290⎥\n",
              "↪          ⎥\n",
              "↪ 44   151 ⎥\n",
              "↪          ⎥\n",
              "↪ 86   363 ⎦"
            ],
            "text/latex": "$\\displaystyle \\left[\\begin{array}{cccccccccccccccccc}150 & 109 & 96 & 116 & 179 & 192 & 134 & 79 & -47 & 223 & 29 & 156 & 252 & 191 & 100 & 201 & 100 & 236\\\\-76 & -160 & -150 & -28 & -6 & -34 & -66 & -122 & -162 & 66 & -188 & -34 & 20 & 102 & -72 & 72 & -84 & 66\\\\88 & 254 & 155 & 64 & 43 & 245 & 249 & 195 & 73 & 151 & 120 & 65 & 96 & 37 & 234 & 46 & 28 & 171\\\\-387 & -380 & -228 & -359 & -402 & -353 & -256 & -451 & -366 & -351 & -382 & -305 & -403 & -258 & -382 & -392 & -391 & -290\\\\252 & 220 & 243 & 168 & 259 & 159 & 121 & 147 & 95 & 149 & 194 & 239 & 272 & 127 & 82 & 180 & 244 & 151\\\\410 & 480 & 273 & 382 & 403 & 461 & 365 & 539 & 401 & 417 & 426 & 313 & 430 & 271 & 496 & 408 & 386 & 363\\end{array}\\right]$"
          },
          "metadata": {},
          "execution_count": 56
        }
      ]
    },
    {
      "cell_type": "markdown",
      "source": [
        "La siguiente función codifica el mensaje entregando la clave y el mensaje como imput:"
      ],
      "metadata": {
        "id": "PTgQlITfH5fk"
      }
    },
    {
      "cell_type": "code",
      "source": [
        "def codificar_sympy(A, mensaje):\n",
        "    # Diccionario de caracteres\n",
        "    diccionario = [\"a\", \"b\", \"c\", \"d\", \"e\", \"f\", \"g\", \"h\", \"i\", \"j\", \"k\", \"l\", \"m\", \"n\", \"o\", \"p\", \"q\", \"r\", \"s\", \"t\", \"u\", \"v\", \"w\", \"x\", \"y\", \"z\", \" \", \",\"]\n",
        "\n",
        "    # Obtener la dimensión de la matriz A\n",
        "    d = A.shape[0]\n",
        "\n",
        "    # Calcular el número de columnas\n",
        "    col = len(mensaje) // d\n",
        "\n",
        "    # Inicializar la matriz M para el mensaje codificado\n",
        "    M = []\n",
        "\n",
        "    # Convertir el mensaje en bloques de longitud d\n",
        "    for j in range(col):\n",
        "        colaux = []\n",
        "        for i in range(d * j, d * (j + 1)):\n",
        "            # Buscar el índice en el diccionario\n",
        "            letra = mensaje[i]\n",
        "            idx = diccionario.index(letra) + 1  # El índice en Python empieza en 0, por lo que sumamos 1\n",
        "            colaux.append(idx)\n",
        "        M.append(colaux)\n",
        "\n",
        "    # Manejar el último bloque si la longitud del mensaje no es múltiplo de d\n",
        "    ultima = []\n",
        "    if len(mensaje) % d > 0:\n",
        "        for k in range(col * d, len(mensaje)):\n",
        "            letra = mensaje[k]\n",
        "            idx = diccionario.index(letra) + 1\n",
        "            ultima.append(idx)\n",
        "\n",
        "        # Completar con \"espacios\" (que en el diccionario son 27)\n",
        "        for k in range(len(ultima), d):\n",
        "            ultima.append(27)\n",
        "\n",
        "        M.append(ultima)\n",
        "\n",
        "    # Convertir M a una matriz transpuesta usando SymPy\n",
        "    M_sympy = sp.Matrix(M).transpose()\n",
        "\n",
        "    # Realizar el producto de matrices con SymPy\n",
        "    resultado = A * M_sympy\n",
        "\n",
        "    return resultado"
      ],
      "metadata": {
        "id": "UPJUDgRbtobZ"
      },
      "execution_count": 57,
      "outputs": []
    },
    {
      "cell_type": "markdown",
      "source": [
        "Aplicando la función al mensaje se obtiene lo siguiente:"
      ],
      "metadata": {
        "id": "n9EYeK2vI6o5"
      }
    },
    {
      "cell_type": "code",
      "source": [
        "mensaje = \"si quieres saber como es un hombre, echa un vistazo al modo en que trata a sus inferiores, no a sus iguales\"\n",
        "codificar_sympy(clave, mensaje)"
      ],
      "metadata": {
        "colab": {
          "base_uri": "https://localhost:8080/",
          "height": 139
        },
        "id": "FQHE9eDCIAc5",
        "outputId": "bc995592-31ac-486a-a416-4df8f6e0436c"
      },
      "execution_count": 58,
      "outputs": [
        {
          "output_type": "execute_result",
          "data": {
            "text/plain": [
              "⎡150   109    96   116   179   192   134    79   -47   223    29   156   252   191   100   201   1 ↪\n",
              "⎢                                                                                                  ↪\n",
              "⎢-76   -160  -150  -28    -6   -34   -66   -122  -162   66   -188  -34    20   102   -72    72   - ↪\n",
              "⎢                                                                                                  ↪\n",
              "⎢ 88   254   155    64    43   245   249   195    73   151   120    65    96    37   234    46     ↪\n",
              "⎢                                                                                                  ↪\n",
              "⎢-387  -380  -228  -359  -402  -353  -256  -451  -366  -351  -382  -305  -403  -258  -382  -392  - ↪\n",
              "⎢                                                                                                  ↪\n",
              "⎢252   220   243   168   259   159   121   147    95   149   194   239   272   127    82   180   2 ↪\n",
              "⎢                                                                                                  ↪\n",
              "⎣410   480   273   382   403   461   365   539   401   417   426   313   430   271   496   408   3 ↪\n",
              "\n",
              "↪ 00   236 ⎤\n",
              "↪          ⎥\n",
              "↪ 84    66 ⎥\n",
              "↪          ⎥\n",
              "↪ 28   171 ⎥\n",
              "↪          ⎥\n",
              "↪ 391  -290⎥\n",
              "↪          ⎥\n",
              "↪ 44   151 ⎥\n",
              "↪          ⎥\n",
              "↪ 86   363 ⎦"
            ],
            "text/latex": "$\\displaystyle \\left[\\begin{array}{cccccccccccccccccc}150 & 109 & 96 & 116 & 179 & 192 & 134 & 79 & -47 & 223 & 29 & 156 & 252 & 191 & 100 & 201 & 100 & 236\\\\-76 & -160 & -150 & -28 & -6 & -34 & -66 & -122 & -162 & 66 & -188 & -34 & 20 & 102 & -72 & 72 & -84 & 66\\\\88 & 254 & 155 & 64 & 43 & 245 & 249 & 195 & 73 & 151 & 120 & 65 & 96 & 37 & 234 & 46 & 28 & 171\\\\-387 & -380 & -228 & -359 & -402 & -353 & -256 & -451 & -366 & -351 & -382 & -305 & -403 & -258 & -382 & -392 & -391 & -290\\\\252 & 220 & 243 & 168 & 259 & 159 & 121 & 147 & 95 & 149 & 194 & 239 & 272 & 127 & 82 & 180 & 244 & 151\\\\410 & 480 & 273 & 382 & 403 & 461 & 365 & 539 & 401 & 417 & 426 & 313 & 430 & 271 & 496 & 408 & 386 & 363\\end{array}\\right]$"
          },
          "metadata": {},
          "execution_count": 58
        }
      ]
    },
    {
      "cell_type": "markdown",
      "source": [
        "Ahora queremos decifrar el mensaje cifrado representado por la siguiente matriz:"
      ],
      "metadata": {
        "id": "5irUUVSBJCUh"
      }
    },
    {
      "cell_type": "code",
      "source": [
        "cifrado=Matrix([\n",
        "    [101, 39, 39, 122, 165, 156, 57, 38, 189, -16],\n",
        "    [-76, -142, -124, 20, 38, 34, -96, -98, -24, -282],\n",
        "    [170, 71, 84, 58, 99, 17, 222, 91, 136, 165],\n",
        "    [-400, -395, -454, -229, -376, -148, -360, -316, -320, -424],\n",
        "    [122, 189, 158, 128, 111, 191, 36, 113, 204, 237],\n",
        "    [480, 417, 490, 248, 427, 135, 476, 357, 370, 481]\n",
        "])\n",
        "cifrado"
      ],
      "metadata": {
        "colab": {
          "base_uri": "https://localhost:8080/",
          "height": 139
        },
        "id": "4yZOnd6GJSsV",
        "outputId": "ac3aaf14-182b-4e18-e0c9-2df064488d1f"
      },
      "execution_count": 59,
      "outputs": [
        {
          "output_type": "execute_result",
          "data": {
            "text/plain": [
              "⎡101    39    39   122   165   156    57    38   189   -16 ⎤\n",
              "⎢                                                          ⎥\n",
              "⎢-76   -142  -124   20    38    34   -96   -98   -24   -282⎥\n",
              "⎢                                                          ⎥\n",
              "⎢170    71    84    58    99    17   222    91   136   165 ⎥\n",
              "⎢                                                          ⎥\n",
              "⎢-400  -395  -454  -229  -376  -148  -360  -316  -320  -424⎥\n",
              "⎢                                                          ⎥\n",
              "⎢122   189   158   128   111   191    36   113   204   237 ⎥\n",
              "⎢                                                          ⎥\n",
              "⎣480   417   490   248   427   135   476   357   370   481 ⎦"
            ],
            "text/latex": "$\\displaystyle \\left[\\begin{matrix}101 & 39 & 39 & 122 & 165 & 156 & 57 & 38 & 189 & -16\\\\-76 & -142 & -124 & 20 & 38 & 34 & -96 & -98 & -24 & -282\\\\170 & 71 & 84 & 58 & 99 & 17 & 222 & 91 & 136 & 165\\\\-400 & -395 & -454 & -229 & -376 & -148 & -360 & -316 & -320 & -424\\\\122 & 189 & 158 & 128 & 111 & 191 & 36 & 113 & 204 & 237\\\\480 & 417 & 490 & 248 & 427 & 135 & 476 & 357 & 370 & 481\\end{matrix}\\right]$"
          },
          "metadata": {},
          "execution_count": 59
        }
      ]
    },
    {
      "cell_type": "markdown",
      "source": [
        "Para decifrar debemos multiplicar, por la izquierda, por la inversa de la clave."
      ],
      "metadata": {
        "id": "NU-pcZJEJYx9"
      }
    },
    {
      "cell_type": "code",
      "source": [
        "mensaje_nuevo=clave.inv()*cifrado\n",
        "mensaje_nuevo"
      ],
      "metadata": {
        "colab": {
          "base_uri": "https://localhost:8080/",
          "height": 139
        },
        "id": "jQofQZY4Jd9Y",
        "outputId": "f031a535-5f00-4e19-b189-a085a8bda055"
      },
      "execution_count": 60,
      "outputs": [
        {
          "output_type": "execute_result",
          "data": {
            "text/plain": [
              "⎡14  15  15  16  20  18  1   4   20  1 ⎤\n",
              "⎢                                      ⎥\n",
              "⎢15  25  28  12  5   5   4   9   1   27⎥\n",
              "⎢                                      ⎥\n",
              "⎢27  27  27  5   27  1   27  19  27  20⎥\n",
              "⎢                                      ⎥\n",
              "⎢5   12  19  13  13  12  5   20  1   21⎥\n",
              "⎢                                      ⎥\n",
              "⎢19  15  9   5   9   9   19  9   27  25⎥\n",
              "⎢                                      ⎥\n",
              "⎣20  3   13  14  27  4   27  14  12  1 ⎦"
            ],
            "text/latex": "$\\displaystyle \\left[\\begin{matrix}14 & 15 & 15 & 16 & 20 & 18 & 1 & 4 & 20 & 1\\\\15 & 25 & 28 & 12 & 5 & 5 & 4 & 9 & 1 & 27\\\\27 & 27 & 27 & 5 & 27 & 1 & 27 & 19 & 27 & 20\\\\5 & 12 & 19 & 13 & 13 & 12 & 5 & 20 & 1 & 21\\\\19 & 15 & 9 & 5 & 9 & 9 & 19 & 9 & 27 & 25\\\\20 & 3 & 13 & 14 & 27 & 4 & 27 & 14 & 12 & 1\\end{matrix}\\right]$"
          },
          "metadata": {},
          "execution_count": 60
        }
      ]
    },
    {
      "cell_type": "markdown",
      "source": [
        "Una vez tenemos la matriz debemos, a mano, reemplazar cada número por la letra correspondiente. La siguiente función hace ese trabajo en forma automatica."
      ],
      "metadata": {
        "id": "pFfu_lpNJ0XJ"
      }
    },
    {
      "cell_type": "code",
      "source": [
        "def decodificar_sympy(A, M):\n",
        "    # Diccionario de caracteres\n",
        "    diccionario = [\"a\", \"b\", \"c\", \"d\", \"e\", \"f\", \"g\", \"h\", \"i\", \"j\", \"k\", \"l\", \"m\", \"n\", \"o\", \"p\", \"q\", \"r\", \"s\", \"t\", \"u\", \"v\", \"w\", \"x\", \"y\", \"z\", \" \", \",\"]\n",
        "\n",
        "    # Inversa de la matriz A\n",
        "    A_inv = A.inv()\n",
        "\n",
        "    # Multiplicación de la inversa de A con M\n",
        "    Me = A_inv * M\n",
        "\n",
        "    # Redondear elementos si es necesario (puede aparecer decimales debido a cálculos)\n",
        "    Me = Me.applyfunc(lambda x: int(round(x)))\n",
        "\n",
        "    # Decodificar el mensaje\n",
        "    mensaje = \"\"\n",
        "    for j in range(Me.shape[1]):  # Columnas\n",
        "        for i in range(Me.shape[0]):  # Filas\n",
        "            idx = Me[i, j] - 1  # Restamos 1 porque los índices en Python empiezan desde 0\n",
        "            if 0 <= idx < len(diccionario):\n",
        "                mensaje += diccionario[idx]\n",
        "\n",
        "    return mensaje"
      ],
      "metadata": {
        "id": "L_GKmBJJuLEM"
      },
      "execution_count": 61,
      "outputs": []
    },
    {
      "cell_type": "code",
      "source": [
        "decodificar_sympy(clave,cifrado)"
      ],
      "metadata": {
        "colab": {
          "base_uri": "https://localhost:8080/",
          "height": 35
        },
        "id": "kOpW3ZDCHm3N",
        "outputId": "ba16f929-962e-43c8-dc78-2e5516c6fa38"
      },
      "execution_count": 62,
      "outputs": [
        {
          "output_type": "execute_result",
          "data": {
            "text/plain": [
              "'no estoy loco, simplemente mi realidad es distinta a la tuya'"
            ],
            "application/vnd.google.colaboratory.intrinsic+json": {
              "type": "string"
            }
          },
          "metadata": {},
          "execution_count": 62
        }
      ]
    }
  ]
}